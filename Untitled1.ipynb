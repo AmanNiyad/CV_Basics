{
 "cells": [
  {
   "cell_type": "code",
   "execution_count": 6,
   "id": "d261606b-0386-421c-bb34-20bba2958dbe",
   "metadata": {},
   "outputs": [],
   "source": [
    "import cv2\n",
    "from pathlib import Path"
   ]
  },
  {
   "cell_type": "code",
   "execution_count": 2,
   "id": "cb8afd8e-a047-44a3-8375-ab8d217af005",
   "metadata": {},
   "outputs": [],
   "source": [
    "def canny_edge_detection(frame): \n",
    "    gray = cv2.cvtColor(frame, cv2.COLOR_BGR2GRAY) \n",
    "    blurred = cv2.GaussianBlur(src=gray, ksize=(3, 5), sigmaX=0.5) \n",
    "    edges = cv2.Canny(blurred, 70, 135) \n",
    "    return blurred, edges"
   ]
  },
  {
   "cell_type": "code",
   "execution_count": 64,
   "id": "2ae38f55-8c45-41f0-815e-758262173198",
   "metadata": {},
   "outputs": [
    {
     "name": "stdout",
     "output_type": "stream",
     "text": [
      "False\n",
      "False\n",
      "False\n",
      "False\n",
      "False\n",
      "False\n",
      "False\n",
      "False\n",
      "False\n",
      "False\n"
     ]
    }
   ],
   "source": [
    "for i in range(10):\n",
    "    cap = cv2.VideoCapture(0,cv2.CAP_DSHOW) \n",
    "    print(cap.isOpened())"
   ]
  },
  {
   "cell_type": "code",
   "execution_count": 35,
   "id": "e7e0411f-63e7-408b-aa36-c45ece12d4e3",
   "metadata": {},
   "outputs": [],
   "source": [
    "def main(): \n",
    "    # Open the default webcam  \n",
    "    cap = cv2.VideoCapture(0) \n",
    "      \n",
    "    while cap.isOpened(): \n",
    "            ret, frame = cap.read() \n",
    "            if not ret: \n",
    "                print('Image not captured') \n",
    "                \n",
    "              \n",
    "            # Perform Canny edge detection on the frame \n",
    "            blurred, edges = canny_edge_detection(frame) \n",
    "              \n",
    "            # Display the original frame and the edge-detected frame \n",
    "            #cv2.imshow(\"Original\", frame) \n",
    "            cv2.imshow(\"Blurred\", blurred) \n",
    "            cv2.imshow(\"Edges\", edges) \n",
    "              \n",
    "            # Exit the loop when 'q' key is pressed \n",
    "            if cv2.waitKey(1) & 0xFF == ord('q'): \n",
    "                break\n",
    "          \n",
    "        # Release the webcam and close the windows \n",
    "    cap.release() \n",
    "    cv2.destroyAllWindows()"
   ]
  },
  {
   "cell_type": "code",
   "execution_count": 43,
   "id": "0ab240e7-912f-4e9f-a3a9-b62e49c83f45",
   "metadata": {},
   "outputs": [
    {
     "name": "stderr",
     "output_type": "stream",
     "text": [
      "[ WARN:0@597.117] global cap_v4l.cpp:997 open VIDEOIO(V4L2:/dev/video0): can't open camera by index\n",
      "[ERROR:0@597.117] global obsensor_uvc_stream_channel.cpp:159 getStreamChannelGroup Camera index out of range\n"
     ]
    }
   ],
   "source": [
    "if __name__ == \"__main__\": \n",
    "    main()"
   ]
  },
  {
   "cell_type": "code",
   "execution_count": null,
   "id": "48d1df21-7303-44cb-a51a-35a4b737f8ea",
   "metadata": {},
   "outputs": [],
   "source": []
  }
 ],
 "metadata": {
  "kernelspec": {
   "display_name": "Python 3 (ipykernel)",
   "language": "python",
   "name": "python3"
  },
  "language_info": {
   "codemirror_mode": {
    "name": "ipython",
    "version": 3
   },
   "file_extension": ".py",
   "mimetype": "text/x-python",
   "name": "python",
   "nbconvert_exporter": "python",
   "pygments_lexer": "ipython3",
   "version": "3.12.2"
  }
 },
 "nbformat": 4,
 "nbformat_minor": 5
}
