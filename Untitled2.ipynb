{
 "cells": [
  {
   "cell_type": "code",
   "execution_count": 1,
   "id": "e70d3b83-13bc-4fb3-913b-58d04213dfcf",
   "metadata": {},
   "outputs": [],
   "source": [
    "from ultralytics import YOLO\n",
    "import cv2"
   ]
  },
  {
   "cell_type": "code",
   "execution_count": 2,
   "id": "786a592c-7acd-4ad6-a378-a38cb7d31692",
   "metadata": {},
   "outputs": [
    {
     "name": "stderr",
     "output_type": "stream",
     "text": [
      "YOLOv8n summary: 225 layers, 3157200 parameters, 0 gradients, 8.9 GFLOPs\n",
      "\n",
      "image 1/1 /home/aman/Codes/PROJECT/Edge_Detection/000054.jpg: 480x640 1 bus, 70.1ms\n",
      "Speed: 2.4ms preprocess, 70.1ms inference, 83.4ms postprocess per image at shape (1, 3, 480, 640)\n"
     ]
    }
   ],
   "source": [
    "model = YOLO(\"yolov8n.pt\")\n",
    "model.info()\n",
    "res = model(\"000054.jpg\", show=True)"
   ]
  },
  {
   "cell_type": "code",
   "execution_count": 3,
   "id": "d422924a-4391-4128-83dc-1ce1c3c73c00",
   "metadata": {},
   "outputs": [],
   "source": [
    "cv2.destroyAllWindows()"
   ]
  },
  {
   "cell_type": "code",
   "execution_count": null,
   "id": "93bdc0e2-5510-43d1-8c1e-4791a6b372c2",
   "metadata": {},
   "outputs": [],
   "source": [
    "results = model.train(data=\"coco8.yaml\", epochs=100, imgsz=640)"
   ]
  }
 ],
 "metadata": {
  "kernelspec": {
   "display_name": "Python 3 (ipykernel)",
   "language": "python",
   "name": "python3"
  },
  "language_info": {
   "codemirror_mode": {
    "name": "ipython",
    "version": 3
   },
   "file_extension": ".py",
   "mimetype": "text/x-python",
   "name": "python",
   "nbconvert_exporter": "python",
   "pygments_lexer": "ipython3",
   "version": "3.12.2"
  }
 },
 "nbformat": 4,
 "nbformat_minor": 5
}
